{
 "metadata": {
  "name": "",
  "signature": "sha256:d61dff89d9fd483a0e29b1346746ee11ba1bb6a1bc40327052b364ce20efe3a0"
 },
 "nbformat": 3,
 "nbformat_minor": 0,
 "worksheets": [
  {
   "cells": [
    {
     "cell_type": "code",
     "collapsed": false,
     "input": [
      "import pymongo,sys\n",
      "from pymongo import MongoClient\n",
      "from pymongo.errors import ConnectionFailure\n",
      "from datetime import datetime\n",
      "import pprint"
     ],
     "language": "python",
     "metadata": {},
     "outputs": [],
     "prompt_number": 33
    },
    {
     "cell_type": "code",
     "collapsed": false,
     "input": [
      "\"\"\" Connect to MongoDB \"\"\"\n",
      "try:\n",
      "    c = MongoClient()\n",
      "    print \"Connected successfully\"\n",
      "except ConnectionFailure, e:\n",
      "    sys.stderr.write(\"Could not connect to MongoDB: %s\" % e)\n"
     ],
     "language": "python",
     "metadata": {},
     "outputs": [
      {
       "output_type": "stream",
       "stream": "stdout",
       "text": [
        "Connected successfully\n"
       ]
      }
     ],
     "prompt_number": 4
    },
    {
     "cell_type": "code",
     "collapsed": false,
     "input": [
      "dbh=c['Mydb']\n",
      "print dbh"
     ],
     "language": "python",
     "metadata": {},
     "outputs": [
      {
       "output_type": "stream",
       "stream": "stdout",
       "text": [
        "Database(MongoClient('localhost', 27017), u'Mydb')\n"
       ]
      }
     ],
     "prompt_number": 10
    },
    {
     "cell_type": "code",
     "collapsed": false,
     "input": [
      "#sample data\n",
      "user_doc = {\n",
      "\"username\" : \"janedoe\",\n",
      "\"firstname\" : \"Jane\",\n",
      "\"surname\" : \"Doe\",\n",
      "\"dateofbirth\" : datetime(1974, 4, 12),\n",
      "\"email\" : \"janedoe74@example.com\",\n",
      "\"score\" : 0\n",
      "}\n",
      "print user_doc"
     ],
     "language": "python",
     "metadata": {},
     "outputs": [
      {
       "output_type": "stream",
       "stream": "stdout",
       "text": [
        "{'username': 'janedoe', 'surname': 'Doe', 'firstname': 'Jane', 'dateofbirth': datetime.datetime(1974, 4, 12, 0, 0), 'score': 0, 'email': 'janedoe74@example.com'}\n"
       ]
      }
     ],
     "prompt_number": 13
    },
    {
     "cell_type": "markdown",
     "metadata": {},
     "source": [
      "<b>Note :</b>that we don\u2019t have to tell MongoDB to create our collection <b>\u201cusers\u201d</b> before we\n",
      "insert to it. Collections are created lazily in MongoDB, whenever you access them."
     ]
    },
    {
     "cell_type": "code",
     "collapsed": false,
     "input": [
      "#insert\n",
      "dbh.users.insert(user_doc)"
     ],
     "language": "python",
     "metadata": {},
     "outputs": [
      {
       "metadata": {},
       "output_type": "pyout",
       "prompt_number": 15,
       "text": [
        "ObjectId('56685fc4622b140897ed8a22')"
       ]
      }
     ],
     "prompt_number": 15
    },
    {
     "cell_type": "markdown",
     "metadata": {},
     "source": [
      "<hr/>\n",
      "Another feature of MongoDB inserts to be aware of is <b>primary key auto-generation</b>. In\n",
      "MongoDB, the _id property on a document is treated specially. It is considered to be\n",
      "the primary key for that document, and is expected to be unique unless the collection\n",
      "has been explcitly created without an index on _id ."
     ]
    },
    {
     "cell_type": "markdown",
     "metadata": {},
     "source": [
      "<br />\n",
      "<b>RDBMS idiom of using auto-increment pri-\n",
      "mary keys</b>. Guaranteeing that an auto-increment key is not already in use usually re-\n",
      "quires consulting some centralized system. When the intention is to provide a hori-\n",
      "zontally scalable, de-centralized and fault-tolerant database\u2014as is the case with Mon-\n",
      "goDB\u2014auto-increment keys represent an ugly bottleneck."
     ]
    },
    {
     "cell_type": "code",
     "collapsed": false,
     "input": [
      "user_doc = {\n",
      "\"username\" : \"Sudhanshu\",\n",
      "\"firstname\" : \"Sudhanshu\",\n",
      "\"surname\" : \"patel\",\n",
      "\"dateofbirth\" : datetime(1992, 4, 12),\n",
      "\"email\" : \"sid@example.com\",\n",
      "\"score\" : 0\n",
      "}\n",
      "print user_doc"
     ],
     "language": "python",
     "metadata": {},
     "outputs": [
      {
       "output_type": "stream",
       "stream": "stdout",
       "text": [
        "{'username': 'Sudhanshu', 'surname': 'patel', 'firstname': 'Sudhanshu', 'dateofbirth': datetime.datetime(1992, 4, 12, 0, 0), 'score': 0, 'email': 'sid@example.com'}\n"
       ]
      }
     ],
     "prompt_number": 17
    },
    {
     "cell_type": "code",
     "collapsed": false,
     "input": [
      "try:\n",
      "    dbh.users.insert(user_doc)\n",
      "    print 'Insertion successfull'\n",
      "except:\n",
      "    print 'Exception in insert'"
     ],
     "language": "python",
     "metadata": {},
     "outputs": [
      {
       "output_type": "stream",
       "stream": "stdout",
       "text": [
        "Insertion successfull\n"
       ]
      }
     ],
     "prompt_number": 31
    },
    {
     "cell_type": "heading",
     "level": 2,
     "metadata": {},
     "source": [
      "Query"
     ]
    },
    {
     "cell_type": "code",
     "collapsed": false,
     "input": [
      "users = dbh.users.find({\"firstname\":\"Sudhanshu\"})\n",
      "for usr in users:\n",
      "    pprint.pprint(usr)"
     ],
     "language": "python",
     "metadata": {},
     "outputs": [
      {
       "output_type": "stream",
       "stream": "stdout",
       "text": [
        "{u'_id': ObjectId('566865f6622b140897ed8a23'),\n",
        " u'dateofbirth': datetime.datetime(1992, 4, 12, 0, 0),\n",
        " u'email': u'sid@example.com',\n",
        " u'firstname': u'Sudhanshu',\n",
        " u'score': 0,\n",
        " u'surname': u'patel',\n",
        " u'username': u'Sudhanshu'}\n"
       ]
      }
     ],
     "prompt_number": 34
    },
    {
     "cell_type": "code",
     "collapsed": false,
     "input": [],
     "language": "python",
     "metadata": {},
     "outputs": []
    }
   ],
   "metadata": {}
  }
 ]
}