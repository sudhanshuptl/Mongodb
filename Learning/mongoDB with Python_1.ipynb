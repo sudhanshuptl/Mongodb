{
 "metadata": {
  "name": "",
  "signature": "sha256:1e638050fcbb2c29d4bc70f3ee1f70203b04fd526237e31f197f2b83d4786687"
 },
 "nbformat": 3,
 "nbformat_minor": 0,
 "worksheets": [
  {
   "cells": [
    {
     "cell_type": "heading",
     "level": 1,
     "metadata": {},
     "source": [
      "#STart with Basics "
     ]
    },
    {
     "cell_type": "code",
     "collapsed": false,
     "input": [
      "#Import  MongoClient Class from Pymongo module\n",
      "from pymongo import MongoClient\n",
      "\n",
      "#Other required Modules\n",
      "import pprint"
     ],
     "language": "python",
     "metadata": {},
     "outputs": [],
     "prompt_number": 8
    },
    {
     "cell_type": "code",
     "collapsed": false,
     "input": [
      "# Connect to MongoD\n",
      "client = MongoClient()\n",
      "print client"
     ],
     "language": "python",
     "metadata": {},
     "outputs": [
      {
       "output_type": "stream",
       "stream": "stdout",
       "text": [
        "MongoClient('localhost', 27017)\n"
       ]
      }
     ],
     "prompt_number": 4
    },
    {
     "cell_type": "heading",
     "level": 3,
     "metadata": {},
     "source": [
      "Select a Database"
     ]
    },
    {
     "cell_type": "code",
     "collapsed": false,
     "input": [
      "db = client.employee\n",
      "print db"
     ],
     "language": "python",
     "metadata": {},
     "outputs": [
      {
       "output_type": "stream",
       "stream": "stdout",
       "text": [
        "Database(MongoClient('localhost', 27017), u'employee')\n"
       ]
      }
     ],
     "prompt_number": 9
    },
    {
     "cell_type": "heading",
     "level": 4,
     "metadata": {},
     "source": [
      "Insert into database"
     ]
    },
    {
     "cell_type": "code",
     "collapsed": false,
     "input": [
      "#Creating A json formate record to insert \n",
      "#Note Json is same as Python Dict\n",
      "myinfo={\"name\":\"Sudhanshu Patel\",'email':'sudhanshuptl13@gmail.com','gender':'m'}"
     ],
     "language": "python",
     "metadata": {},
     "outputs": [],
     "prompt_number": 15
    },
    {
     "cell_type": "code",
     "collapsed": false,
     "input": [
      "#Data is inserted & Corresponding object Id returns\n",
      "db.autos.insert(myinfo)\n",
      "#DuplicateKeyError Occures Becouse I already inserted this information , & keyElement matches"
     ],
     "language": "python",
     "metadata": {},
     "outputs": [
      {
       "ename": "DuplicateKeyError",
       "evalue": "insertDocument :: caused by :: 11000 E11000 duplicate key error index: employee.autos.$_id_  dup key: { : ObjectId('5655a1e8622b140c3d9845ef') }",
       "output_type": "pyerr",
       "traceback": [
        "\u001b[0;31m---------------------------------------------------------------------------\u001b[0m\n\u001b[0;31mDuplicateKeyError\u001b[0m                         Traceback (most recent call last)",
        "\u001b[0;32m<ipython-input-18-b4d18317f0ae>\u001b[0m in \u001b[0;36m<module>\u001b[0;34m()\u001b[0m\n\u001b[1;32m      1\u001b[0m \u001b[0;31m#Data is inserted & Corresponding object Id returns\u001b[0m\u001b[0;34m\u001b[0m\u001b[0;34m\u001b[0m\u001b[0m\n\u001b[0;32m----> 2\u001b[0;31m \u001b[0mdb\u001b[0m\u001b[0;34m.\u001b[0m\u001b[0mautos\u001b[0m\u001b[0;34m.\u001b[0m\u001b[0minsert\u001b[0m\u001b[0;34m(\u001b[0m\u001b[0mmyinfo\u001b[0m\u001b[0;34m)\u001b[0m\u001b[0;34m\u001b[0m\u001b[0m\n\u001b[0m",
        "\u001b[0;32m/usr/lib/python2.7/dist-packages/pymongo/collection.pyc\u001b[0m in \u001b[0;36minsert\u001b[0;34m(self, doc_or_docs, manipulate, check_keys, continue_on_error, **kwargs)\u001b[0m\n\u001b[1;32m   1924\u001b[0m         \u001b[0;32mwith\u001b[0m \u001b[0mself\u001b[0m\u001b[0;34m.\u001b[0m\u001b[0m_socket_for_writes\u001b[0m\u001b[0;34m(\u001b[0m\u001b[0;34m)\u001b[0m \u001b[0;32mas\u001b[0m \u001b[0msock_info\u001b[0m\u001b[0;34m:\u001b[0m\u001b[0;34m\u001b[0m\u001b[0m\n\u001b[1;32m   1925\u001b[0m             return self._insert(sock_info, doc_or_docs, not continue_on_error,\n\u001b[0;32m-> 1926\u001b[0;31m                                 check_keys, manipulate, write_concern)\n\u001b[0m\u001b[1;32m   1927\u001b[0m \u001b[0;34m\u001b[0m\u001b[0m\n\u001b[1;32m   1928\u001b[0m     def update(self, spec, document, upsert=False, manipulate=False,\n",
        "\u001b[0;32m/usr/lib/python2.7/dist-packages/pymongo/collection.pyc\u001b[0m in \u001b[0;36m_insert\u001b[0;34m(self, sock_info, docs, ordered, check_keys, manipulate, write_concern)\u001b[0m\n\u001b[1;32m    429\u001b[0m                 \u001b[0mself\u001b[0m\u001b[0;34m.\u001b[0m\u001b[0mdatabase\u001b[0m\u001b[0;34m.\u001b[0m\u001b[0mname\u001b[0m \u001b[0;34m+\u001b[0m \u001b[0;34m\".$cmd\"\u001b[0m\u001b[0;34m,\u001b[0m \u001b[0m_INSERT\u001b[0m\u001b[0;34m,\u001b[0m \u001b[0mcommand\u001b[0m\u001b[0;34m,\u001b[0m\u001b[0;34m\u001b[0m\u001b[0m\n\u001b[1;32m    430\u001b[0m                 gen(), check_keys, self.codec_options, sock_info)\n\u001b[0;32m--> 431\u001b[0;31m             \u001b[0m_check_write_command_response\u001b[0m\u001b[0;34m(\u001b[0m\u001b[0mresults\u001b[0m\u001b[0;34m)\u001b[0m\u001b[0;34m\u001b[0m\u001b[0m\n\u001b[0m\u001b[1;32m    432\u001b[0m         \u001b[0;32melse\u001b[0m\u001b[0;34m:\u001b[0m\u001b[0;34m\u001b[0m\u001b[0m\n\u001b[1;32m    433\u001b[0m             \u001b[0;31m# Legacy batched OP_INSERT.\u001b[0m\u001b[0;34m\u001b[0m\u001b[0;34m\u001b[0m\u001b[0m\n",
        "\u001b[0;32m/usr/lib/python2.7/dist-packages/pymongo/helpers.pyc\u001b[0m in \u001b[0;36m_check_write_command_response\u001b[0;34m(results)\u001b[0m\n\u001b[1;32m    258\u001b[0m             \u001b[0merror\u001b[0m\u001b[0;34m[\u001b[0m\u001b[0;34m\"index\"\u001b[0m\u001b[0;34m]\u001b[0m \u001b[0;34m+=\u001b[0m \u001b[0moffset\u001b[0m\u001b[0;34m\u001b[0m\u001b[0m\n\u001b[1;32m    259\u001b[0m             \u001b[0;32mif\u001b[0m \u001b[0merror\u001b[0m\u001b[0;34m.\u001b[0m\u001b[0mget\u001b[0m\u001b[0;34m(\u001b[0m\u001b[0;34m\"code\"\u001b[0m\u001b[0;34m)\u001b[0m \u001b[0;34m==\u001b[0m \u001b[0;36m11000\u001b[0m\u001b[0;34m:\u001b[0m\u001b[0;34m\u001b[0m\u001b[0m\n\u001b[0;32m--> 260\u001b[0;31m                 \u001b[0;32mraise\u001b[0m \u001b[0mDuplicateKeyError\u001b[0m\u001b[0;34m(\u001b[0m\u001b[0merror\u001b[0m\u001b[0;34m.\u001b[0m\u001b[0mget\u001b[0m\u001b[0;34m(\u001b[0m\u001b[0;34m\"errmsg\"\u001b[0m\u001b[0;34m)\u001b[0m\u001b[0;34m,\u001b[0m \u001b[0;36m11000\u001b[0m\u001b[0;34m,\u001b[0m \u001b[0merror\u001b[0m\u001b[0;34m)\u001b[0m\u001b[0;34m\u001b[0m\u001b[0m\n\u001b[0m\u001b[1;32m    261\u001b[0m             \u001b[0;32mraise\u001b[0m \u001b[0mWriteError\u001b[0m\u001b[0;34m(\u001b[0m\u001b[0merror\u001b[0m\u001b[0;34m.\u001b[0m\u001b[0mget\u001b[0m\u001b[0;34m(\u001b[0m\u001b[0;34m\"errmsg\"\u001b[0m\u001b[0;34m)\u001b[0m\u001b[0;34m,\u001b[0m \u001b[0merror\u001b[0m\u001b[0;34m.\u001b[0m\u001b[0mget\u001b[0m\u001b[0;34m(\u001b[0m\u001b[0;34m\"code\"\u001b[0m\u001b[0;34m)\u001b[0m\u001b[0;34m,\u001b[0m \u001b[0merror\u001b[0m\u001b[0;34m)\u001b[0m\u001b[0;34m\u001b[0m\u001b[0m\n\u001b[1;32m    262\u001b[0m         \u001b[0;32melse\u001b[0m\u001b[0;34m:\u001b[0m\u001b[0;34m\u001b[0m\u001b[0m\n",
        "\u001b[0;31mDuplicateKeyError\u001b[0m: insertDocument :: caused by :: 11000 E11000 duplicate key error index: employee.autos.$_id_  dup key: { : ObjectId('5655a1e8622b140c3d9845ef') }"
       ]
      }
     ],
     "prompt_number": 18
    },
    {
     "cell_type": "heading",
     "level": 4,
     "metadata": {},
     "source": [
      "print All data of employee in json formate"
     ]
    },
    {
     "cell_type": "code",
     "collapsed": false,
     "input": [
      "\n",
      "for a in db.autos.find():\n",
      "    pprint.pprint(a)"
     ],
     "language": "python",
     "metadata": {},
     "outputs": [
      {
       "output_type": "stream",
       "stream": "stdout",
       "text": [
        "{u'_id': ObjectId('5655a1e8622b140c3d9845ef'),\n",
        " u'email': u'sudhanshuptl13@gmail.com',\n",
        " u'gender': u'm',\n",
        " u'name': u'Sudhanshu Patel'}\n"
       ]
      }
     ],
     "prompt_number": 21
    },
    {
     "cell_type": "code",
     "collapsed": false,
     "input": [
      "# Insert Few More data to explore more\n",
      "data=({\"name\":\"Ashutosh Dwivedi\",'email':'112cs0148@nitrkl.ac.in','gender':'m'},\n",
      "      {\"name\":\"Vikash Patidar\",'email':'112cs0175@gnitrkl.ac.in','gender':'m'},\n",
      "      {\"name\":\"Om Prakash Acharya\",'email':'112cs0131@nitrkl.ac.in','gender':'m'},\n",
      "      {\"name\":\"Ruchira Naskar\",'email':'ruchiran@nitrkl.ac.in','gender':'f'})\n",
      "\n",
      "#insert data\n",
      "db.autos.insert(data)"
     ],
     "language": "python",
     "metadata": {},
     "outputs": [
      {
       "metadata": {},
       "output_type": "pyout",
       "prompt_number": 22,
       "text": [
        "[ObjectId('5655a4df622b140c3d9845f0'),\n",
        " ObjectId('5655a4df622b140c3d9845f1'),\n",
        " ObjectId('5655a4df622b140c3d9845f2'),\n",
        " ObjectId('5655a4df622b140c3d9845f3')]"
       ]
      }
     ],
     "prompt_number": 22
    },
    {
     "cell_type": "code",
     "collapsed": false,
     "input": [
      "#Again print All data\n",
      "for a in db.autos.find():\n",
      "    pprint.pprint(a)"
     ],
     "language": "python",
     "metadata": {},
     "outputs": [
      {
       "output_type": "stream",
       "stream": "stdout",
       "text": [
        "{u'_id': ObjectId('5655a1e8622b140c3d9845ef'),\n",
        " u'email': u'sudhanshuptl13@gmail.com',\n",
        " u'gender': u'm',\n",
        " u'name': u'Sudhanshu Patel'}\n",
        "{u'_id': ObjectId('5655a4df622b140c3d9845f0'),\n",
        " u'email': u'112cs0148@nitrkl.ac.in',\n",
        " u'gender': u'm',\n",
        " u'name': u'Ashutosh Dwivedi'}\n",
        "{u'_id': ObjectId('5655a4df622b140c3d9845f1'),\n",
        " u'email': u'112cs0175@gnitrkl.ac.in',\n",
        " u'gender': u'm',\n",
        " u'name': u'Vikash Patidar'}\n",
        "{u'_id': ObjectId('5655a4df622b140c3d9845f2'),\n",
        " u'email': u'112cs0131@nitrkl.ac.in',\n",
        " u'gender': u'm',\n",
        " u'name': u'Om Prakash Acharya'}\n",
        "{u'_id': ObjectId('5655a4df622b140c3d9845f3'),\n",
        " u'email': u'ruchiran@nitrkl.ac.in',\n",
        " u'gender': u'f',\n",
        " u'name': u'Ruchira Naskar'}\n"
       ]
      }
     ],
     "prompt_number": 23
    },
    {
     "cell_type": "heading",
     "level": 3,
     "metadata": {},
     "source": [
      "Search in database"
     ]
    },
    {
     "cell_type": "code",
     "collapsed": false,
     "input": [
      "def find(jsonQ):\n",
      "    #search & print\n",
      "    result=db.autos.find(jsonQ)\n",
      "    for each in result:\n",
      "        pprint.pprint(each)\n",
      "        \n",
      "# Search All male person in employee database\n",
      "find({'gender':'m'})"
     ],
     "language": "python",
     "metadata": {},
     "outputs": [
      {
       "output_type": "stream",
       "stream": "stdout",
       "text": [
        "{u'_id': ObjectId('5655a1e8622b140c3d9845ef'),\n",
        " u'email': u'sudhanshuptl13@gmail.com',\n",
        " u'gender': u'm',\n",
        " u'name': u'Sudhanshu Patel'}\n",
        "{u'_id': ObjectId('5655a4df622b140c3d9845f0'),\n",
        " u'email': u'112cs0148@nitrkl.ac.in',\n",
        " u'gender': u'm',\n",
        " u'name': u'Ashutosh Dwivedi'}\n",
        "{u'_id': ObjectId('5655a4df622b140c3d9845f1'),\n",
        " u'email': u'112cs0175@gnitrkl.ac.in',\n",
        " u'gender': u'm',\n",
        " u'name': u'Vikash Patidar'}\n",
        "{u'_id': ObjectId('5655a4df622b140c3d9845f2'),\n",
        " u'email': u'112cs0131@nitrkl.ac.in',\n",
        " u'gender': u'm',\n",
        " u'name': u'Om Prakash Acharya'}\n"
       ]
      }
     ],
     "prompt_number": 25
    },
    {
     "cell_type": "code",
     "collapsed": false,
     "input": [
      "#search for all female employee\n",
      "find({'gender':'f'})"
     ],
     "language": "python",
     "metadata": {},
     "outputs": [
      {
       "output_type": "stream",
       "stream": "stdout",
       "text": [
        "{u'_id': ObjectId('5655a4df622b140c3d9845f3'),\n",
        " u'email': u'ruchiran@nitrkl.ac.in',\n",
        " u'gender': u'f',\n",
        " u'name': u'Ruchira Naskar'}\n"
       ]
      }
     ],
     "prompt_number": 26
    },
    {
     "cell_type": "heading",
     "level": 2,
     "metadata": {},
     "source": [
      "Projection in Query\n"
     ]
    },
    {
     "cell_type": "heading",
     "level": 5,
     "metadata": {},
     "source": [
      "Using Projection We specify the information we need in return,\n",
      "where basic search as we seen above results whole record of matching.\n",
      "for example if I want to know only name of female employee or male employee then i should specify in query using projection to return only name. "
     ]
    },
    {
     "cell_type": "code",
     "collapsed": false,
     "input": [
      "# rewrite our Search \n",
      "def Specific_find(jsonQ,projection):\n",
      "    #search & print\n",
      "    result=db.autos.find(jsonQ,projection)# we just increase one more argument\n",
      "    for each in result:\n",
      "        pprint.pprint(each)\n",
      "        \n",
      "#just return name & we have to specify that do'not return _id, becouse it return id in default mode\n",
      "projection={'_id': 0,'name':1} \n",
      "\n",
      "query={'gender':'m'}\n",
      "print 'All Male Employee'\n",
      "Specific_find(query,projection)\n",
      "\n",
      "query={'gender':'f'}\n",
      "print '\\nAll FeMale Employee'\n",
      "Specific_find(query,projection)"
     ],
     "language": "python",
     "metadata": {},
     "outputs": [
      {
       "output_type": "stream",
       "stream": "stdout",
       "text": [
        "All Male Employee\n",
        "{u'gender': u'm', u'name': u'Sudhanshu Patel'}\n",
        "{u'gender': u'm', u'name': u'Ashutosh Dwivedi'}\n",
        "{u'gender': u'm', u'name': u'Vikash Patidar'}\n",
        "{u'gender': u'm', u'name': u'Om Prakash Acharya'}\n",
        "\n",
        "All FeMale Employee\n",
        "{u'gender': u'f', u'name': u'Ruchira Naskar'}\n"
       ]
      }
     ],
     "prompt_number": 32
    },
    {
     "cell_type": "code",
     "collapsed": false,
     "input": [],
     "language": "python",
     "metadata": {},
     "outputs": []
    }
   ],
   "metadata": {}
  }
 ]
}