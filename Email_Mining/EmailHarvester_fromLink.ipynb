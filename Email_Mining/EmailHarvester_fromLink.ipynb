{
 "cells": [
  {
   "cell_type": "markdown",
   "metadata": {},
   "source": [
    "<h3>\n",
    "Summary\n",
    "</h3>\n",
    "<h5>\n",
    "<p>\n",
    "It create base for Universal script which fetch all data from\n",
    "</p>\n",
    "</h5>"
   ]
  },
  {
   "cell_type": "code",
   "execution_count": 69,
   "metadata": {
    "collapsed": true
   },
   "outputs": [],
   "source": [
    "#Import  MongoClient Class from Pymongo module\n",
    "from pymongo import MongoClient\n",
    "from pymongo.errors import *\n",
    "#Other required Modules\n",
    "import pprint\n",
    "\n",
    "#Regex\n",
    "import re\n",
    "\n",
    "#fetch URL data\n",
    "import urllib2\n"
   ]
  },
  {
   "cell_type": "code",
   "execution_count": 2,
   "metadata": {},
   "outputs": [
    {
     "name": "stdout",
     "output_type": "stream",
     "text": [
      "MongoClient(host=['localhost:27017'], document_class=dict, tz_aware=False, connect=True)\n"
     ]
    }
   ],
   "source": [
    "# Connect to MongoD\n",
    "client = MongoClient()\n",
    "print client"
   ]
  },
  {
   "cell_type": "markdown",
   "metadata": {},
   "source": [
    "## Select Database"
   ]
  },
  {
   "cell_type": "code",
   "execution_count": 3,
   "metadata": {},
   "outputs": [
    {
     "name": "stdout",
     "output_type": "stream",
     "text": [
      "Database(MongoClient(host=['localhost:27017'], document_class=dict, tz_aware=False, connect=True), u'userdb')\n"
     ]
    }
   ],
   "source": [
    "db = client.userdb\n",
    "print db"
   ]
  },
  {
   "cell_type": "markdown",
   "metadata": {},
   "source": [
    "## Print few Data"
   ]
  },
  {
   "cell_type": "code",
   "execution_count": 14,
   "metadata": {},
   "outputs": [
    {
     "name": "stdout",
     "output_type": "stream",
     "text": [
      "{u'_id': ObjectId('59aae480b0560c37e8c697da'),\n",
      " u'email': u'sudhanshuptl13@gmail.com'}\n",
      "{u'_id': ObjectId('567db62b622b140b6607dfa2'),\n",
      " u'email': u'sudhanshuptl13@outlook.com',\n",
      " u'name': u'Sudhanshu Patel',\n",
      " u'org': u'NITR',\n",
      " u'phone': 9668641214L}\n"
     ]
    }
   ],
   "source": [
    "\n",
    "for a in db.userdb.find({\"email\":{'$regex': 'sudhanshuptl13.*'}}):\n",
    "    pprint.pprint(a)"
   ]
  },
  {
   "cell_type": "code",
   "execution_count": 18,
   "metadata": {},
   "outputs": [],
   "source": [
    "#data=({'name':'Sudhanshu Patel','email':'sudhanshuptl13@gmail.com'})\n",
    "#res=db.userdb.insert_one(data)\n",
    "#print(res.inserted_id)"
   ]
  },
  {
   "cell_type": "code",
   "execution_count": 19,
   "metadata": {},
   "outputs": [],
   "source": [
    "#res= db.userdb.delete_many({'email':{'$regex':'sudhanshuptl13@gmail.com'}})\n",
    "#print(res.deleted_count)"
   ]
  },
  {
   "cell_type": "markdown",
   "metadata": {
    "collapsed": true
   },
   "source": [
    "## fetch Data From URL"
   ]
  },
  {
   "cell_type": "code",
   "execution_count": 21,
   "metadata": {
    "collapsed": true
   },
   "outputs": [],
   "source": [
    "url='http://www.alltechfeed.com/free-netflix-accounts-passwords-working-premium-accounts-2017/'\n"
   ]
  },
  {
   "cell_type": "code",
   "execution_count": 23,
   "metadata": {},
   "outputs": [
    {
     "name": "stdout",
     "output_type": "stream",
     "text": [
      "!DOCTYPE html PUBLIC \"-//W3C//DTD XHTML 1.0 Transitional//EN\" \"http://www.w3.org/TR/xhtml1/DTD/xhtm\n"
     ]
    }
   ],
   "source": [
    "req = urllib2.Request(url)\n",
    "response = urllib2.urlopen(req)\n",
    "data = response.read()\n",
    "#print(data[1:100])"
   ]
  },
  {
   "cell_type": "markdown",
   "metadata": {},
   "source": [
    "## fetch email-id from Data"
   ]
  },
  {
   "cell_type": "code",
   "execution_count": 50,
   "metadata": {},
   "outputs": [],
   "source": [
    "#mailRegex = re.compile(r'(\\w+[\\w.]+@|\\(at\\))\\w+(\\.|\\(dot\\))((\\w){2,7}(\\.|\\(dot\\))(\\w){2,5}|(\\w){2,7}))')\n",
    "mailRegex = re.compile(r'(\\w+[\\w._]+@{1}(gmail|outlook|hotmail|live|yahoo)\\.(com|in))')"
   ]
  },
  {
   "cell_type": "code",
   "execution_count": 51,
   "metadata": {},
   "outputs": [
    {
     "name": "stdout",
     "output_type": "stream",
     "text": [
      "350 emails found\n"
     ]
    }
   ],
   "source": [
    "emails=mailRegex.findall(data)\n",
    "print len(emails),\"emails found\""
   ]
  },
  {
   "cell_type": "markdown",
   "metadata": {},
   "source": [
    "# Create set of emails without duplicate"
   ]
  },
  {
   "cell_type": "code",
   "execution_count": 61,
   "metadata": {},
   "outputs": [
    {
     "name": "stdout",
     "output_type": "stream",
     "text": [
      "('Total unique mails foud:', 194)\n"
     ]
    }
   ],
   "source": [
    "uniqueMails=[]\n",
    "for email in emails:\n",
    "    if email[0] not in uniqueMails:\n",
    "        uniqueMails.append(email[0])\n",
    "\n",
    "print(\"Total unique mails foud:\",len(uniqueMails))"
   ]
  },
  {
   "cell_type": "markdown",
   "metadata": {},
   "source": [
    "# #Insert  to MongoDB"
   ]
  },
  {
   "cell_type": "code",
   "execution_count": 65,
   "metadata": {},
   "outputs": [
    {
     "name": "stdout",
     "output_type": "stream",
     "text": [
      "('Total records before insertion ', 682196)\n"
     ]
    }
   ],
   "source": [
    "#total records before insertion\n",
    "totalRecordBeforeInsertion=db.userdb.count()\n",
    "print(\"Total records before insertion \",totalRecordBeforeInsertion)"
   ]
  },
  {
   "cell_type": "code",
   "execution_count": 78,
   "metadata": {},
   "outputs": [
    {
     "name": "stdout",
     "output_type": "stream",
     "text": [
      "('Error : email already exist', 'sudhanshuptl13@gmail.com')\n",
      "('Error : email already exist', 'sudhanshuptl13@outlook.com')\n",
      "('Error : email already exist', 'nataliya.herus@gmail.com')\n",
      "('Error : email already exist', 'jrrllicey@hotmail.com')\n",
      "('Error : email already exist', 'eeyidogan@hotmail.com')\n",
      "('Error : email already exist', 'barxky1976@yahoo.com')\n",
      "('Error : email already exist', 'ijuvota@gmail.com')\n",
      "('Error : email already exist', 'smiller411info@yahoo.com')\n",
      "('Error : email already exist', 'wiebachmari@yahoo.com')\n",
      "('Error : email already exist', 'gomatthewgo@gmail.com')\n",
      "('Error : email already exist', 'villaricayouth@gmail.com')\n",
      "('Error : email already exist', 'natahllijeol@yahoo.com')\n",
      "('Error : email already exist', 'abhishek34@gmail.com')\n",
      "('Error : email already exist', 'admintrybitt@yahoo.com')\n",
      "('Error : email already exist', 'albertmahali@hotmail.com')\n",
      "('Error : email already exist', 'atbbuckeye@yahoo.com')\n",
      "('Error : email already exist', 'fantasticbrains@gmail.com')\n",
      "('Error : email already exist', 'greenlegends@yahoo.com')\n",
      "('Error : email already exist', 'jalluvhein@yahoo.com')\n",
      "('Error : email already exist', 'jerkfaceoffblood@gmail.com')\n",
      "('Error : email already exist', 'josonbills@gmail.com')\n",
      "('Error : email already exist', 'kennydodgebull@gmail.com')\n",
      "('Error : email already exist', 'ladypayee@hotmail.com')\n",
      "('Error : email already exist', 'mattsirois20@gmail.com')\n",
      "('Error : email already exist', 'mylovelyglasses4ever@gmail.com')\n",
      "('Error : email already exist', 'mytriolk.rubix@gmail.com')\n",
      "('Error : email already exist', 'nagarjunbandi909@gmail.com')\n",
      "('Error : email already exist', 'nanaikajaldoll@hotmail.com')\n",
      "('Error : email already exist', 'nandy0489@gmail.com')\n",
      "('Error : email already exist', 'nataliyva.herus@gmail.com')\n",
      "('Error : email already exist', 'rocketrumblefire_a@gmail.com')\n",
      "('Error : email already exist', 'ryangreeenbit@gmail.com')\n",
      "('Error : email already exist', 'shriyasharan_acthil@gmail.com')\n",
      "('Error : email already exist', 'slbabulkinda89@hotmail.com')\n",
      "('Error : email already exist', 'thomastigeralways@yahoo.com')\n",
      "('Error : email already exist', 'tjs1966@gmail.com')\n",
      "('Error : email already exist', 'tonyrobertme@gmail.com')\n",
      "('Error : email already exist', 'warrenchurchil9@yahoo.com')\n",
      "('Error : email already exist', 'will.brand@gmail.com')\n",
      "('Error : email already exist', 'yovkheins_lord@hotmail.com')\n",
      "('Error : email already exist', 'warnerthestyle@gmail.com')\n",
      "('Error : email already exist', 'iklmickey.me@yahoo.com')\n",
      "('Error : email already exist', 'h.bonnevier@gmail.com')\n",
      "('Error : email already exist', 'snoozieplayz@gmail.com')\n",
      "('Error : email already exist', 'bchrisonique@gmail.com')\n",
      "('Error : email already exist', 'cliffypiffy@gmail.com')\n",
      "('Error : email already exist', 'Ashantioliver3@gmail.com')\n",
      "('Error : email already exist', 'johnpatrickparil@gmail.com')\n",
      "('Error : email already exist', 'marandablair1997@gmail.com')\n",
      "('Error : email already exist', 'edwinremery@gmail.com')\n",
      "('Error : email already exist', 'allylenne@gmail.com')\n",
      "('Error : email already exist', 'farhannajme@yahoo.com')\n",
      "('Error : email already exist', 'amqafrjs@gmail.com')\n",
      "('Error : email already exist', 'Rleslie633@gmail.com')\n",
      "('Error : email already exist', 'barnettebam@gmail.com')\n",
      "('Error : email already exist', 'flakameza13@gmail.com')\n",
      "('Error : email already exist', 'karenpadgett@hotmail.com')\n",
      "('Error : email already exist', 'issaisa81@gmail.com')\n",
      "('Error : email already exist', 'rahul.ola125@gmail.com')\n",
      "('Error : email already exist', 'carolynplus@outlook.com')\n",
      "('Error : email already exist', 'nikkia.j.semaia@gmail.com')\n",
      "('Error : email already exist', 'danny_eggels@hotmail.com')\n",
      "('Error : email already exist', 'christiangaffo@hotmail.com')\n",
      "('Error : email already exist', 'Joanelkervin@gmail.com')\n",
      "('Error : email already exist', 'mmm2001sharp@gmail.com')\n",
      "('Error : email already exist', 'Chantie_15@hotmail.com')\n",
      "('Error : email already exist', 'joannalee693@gmail.com')\n",
      "('Error : email already exist', 'ashbee1528@gmail.com')\n",
      "('Error : email already exist', 'Adrianachen199506@gmail.com')\n",
      "('Error : email already exist', 'signruppr1@gmail.com')\n",
      "('Error : email already exist', 'Theyef34@gmail.com')\n",
      "('Error : email already exist', 'liambeck691@gmail.com')\n",
      "('Error : email already exist', 'Sadcutie1@gmail.com')\n",
      "('Error : email already exist', 'boogiedown2004@yahoo.com')\n",
      "('Error : email already exist', 'redfrosty360@gmail.com')\n",
      "('Error : email already exist', 'kristybrito555@hotmail.com')\n",
      "('Error : email already exist', 'usnawright@gmail.com')\n",
      "('Error : email already exist', 'lyonnyun@gmail.com')\n",
      "('Error : email already exist', 'tamimantu@gmail.com')\n",
      "('Error : email already exist', 'iskocyaglasgow@hotmail.com')\n",
      "('Error : email already exist', 'algeritaap@gmail.com')\n",
      "('Error : email already exist', 'lilkrazie420.ks@gmail.com')\n",
      "('Error : email already exist', 'raxx.b99@gmail.com')\n",
      "('Error : email already exist', 'yanaboyko38@gmail.com')\n",
      "('Error : email already exist', 'colinflintis@gmail.com')\n",
      "('Error : email already exist', 'fileshare030@gmail.com')\n",
      "('Error : email already exist', 'Jackyvicli@gmail.com')\n",
      "('Error : email already exist', 'Natsawhore@gmail.com')\n",
      "('Error : email already exist', 'fouad@live.com')\n",
      "('Error : email already exist', 'SiennaJ12@hotmail.com')\n",
      "('Error : email already exist', 'garuncho2@gmail.com')\n",
      "('Error : email already exist', 'abdulintojob@gmail.com')\n",
      "('Error : email already exist', 'angelpro935@yahoo.com')\n",
      "('Error : email already exist', 'lauragamba04@hotmail.com')\n",
      "('Error : email already exist', 'elhenshiri@outlook.com')\n",
      "('Error : email already exist', 's.martinez123420@gmail.com')\n",
      "('Error : email already exist', 'theprofromthesky@gmail.com')\n",
      "('Error : email already exist', 'nyahbryans@gmail.com')\n",
      "('Error : email already exist', 'tx12manualgt@gmail.com')\n",
      "('Error : email already exist', 'rinkeshin@gmail.com')\n",
      "('Error : email already exist', 'biancamubarikb13@gmail.com')\n",
      "('Error : email already exist', 'brian_dharamdial@hotmail.com')\n",
      "('Error : email already exist', 'otfkvngzack@gmail.com')\n",
      "('Error : email already exist', 'masterdt@outlook.com')\n",
      "('Error : email already exist', 'Reddd0823@gmail.com')\n",
      "('Error : email already exist', 'jamesm1470@gmail.com')\n",
      "('Error : email already exist', 'emilyboyd11221@gmail.com')\n",
      "('Error : email already exist', 'Michelleandreacorrea@gmail.com')\n",
      "('Error : email already exist', 'Luqmaam2@gmail.com')\n",
      "('Error : email already exist', 'belfkih.mohamed@gmail.com')\n",
      "('Error : email already exist', 'zoulikha_mocro@hotmail.com')\n",
      "('Error : email already exist', 'cpclippers@gmail.com')\n",
      "('Error : email already exist', 'Fashkk12@gmail.com')\n",
      "('Error : email already exist', 'leo.angelo247@gmail.com')\n",
      "('Error : email already exist', 'rabah659@gmail.com')\n",
      "('Error : email already exist', 'Daddy2Besk@hotmail.com')\n",
      "('Error : email already exist', 'totodiazsanchez@gmail.com')\n",
      "('Error : email already exist', 'casandrajuarez1998@gmail.com')\n",
      "('Error : email already exist', 'anwarrabhi007@gmail.com')\n",
      "('Error : email already exist', 'ramosalmark@gmail.com')\n",
      "('Error : email already exist', 'Chriswhitneywall@gmail.com')\n",
      "('Error : email already exist', 'nice..chriswhitneywall@gmail.com')\n",
      "('Error : email already exist', 'stephanieromerocx@gmail.com')\n",
      "('Error : email already exist', 'sophkape1@hotmail.com')\n",
      "('Error : email already exist', 'theworld4u@live.com')\n",
      "('Error : email already exist', 'franceschillaci@hotmail.com')\n",
      "('Error : email already exist', 'abdifatahdurant@gmail.com')\n",
      "('Error : email already exist', 'pratimarai2003@gmail.com')\n",
      "('Error : email already exist', 'shaanxo97@gmail.com')\n",
      "('Error : email already exist', 'partykat1212@gmail.com')\n",
      "('Error : email already exist', 'salgado.a.1732@gmail.com')\n",
      "('Error : email already exist', 'charchitSharma44@gmail.com')\n",
      "('Error : email already exist', 'mercedeesmcbride5@gmail.com')\n",
      "('Error : email already exist', 'jasminecharles933@gmail.com')\n",
      "('Error : email already exist', 'Haseebahmed_1987@hotmail.com')\n",
      "('Error : email already exist', 'arlener2016@gmail.com')\n",
      "('Error : email already exist', 'raviteja.teja449@gmail.com')\n",
      "('Error : email already exist', 'feffua@gmail.com')\n",
      "('Error : email already exist', 'Pernilleskb@gmail.com')\n",
      "('Error : email already exist', 'shelbykern66@hotmail.com')\n",
      "('Error : email already exist', 'anniepier_fortin2710@outlook.com')\n",
      "('Error : email already exist', 'locogil20@hotmail.com')\n",
      "('Error : email already exist', 'alexkungfu10@gmail.com')\n",
      "('Error : email already exist', 'sameer.aptechiic@gmail.com')\n",
      "('Error : email already exist', 'Fernandaz12344@gmail.com')\n",
      "('Error : email already exist', 'nathaniacadogan@gmail.com')\n",
      "('Error : email already exist', 'rickylee6904@hotmail.com')\n",
      "('Error : email already exist', 'hailey9987@gmail.com')\n",
      "('Error : email already exist', 'jacksteph19@gmail.com')\n",
      "('Error : email already exist', 'runboorun01@gmail.com')\n",
      "('Error : email already exist', 'ldaisyvazquez05@gmail.com')\n",
      "('Error : email already exist', 'Clnardello11@gmail.com')\n",
      "('Error : email already exist', 's.m.rafiz@gmail.com')\n",
      "('Error : email already exist', 'pilotz2004@gmail.com')\n",
      "('Error : email already exist', 'xintaty@gmail.com')\n",
      "('Error : email already exist', 'lwaibasel@hotmail.com')\n",
      "('Error : email already exist', 'kenette.landingin@gmail.com')\n",
      "('Error : email already exist', 'meronshiferaw281@outlook.com')\n",
      "('Error : email already exist', 'therealansai66@gmail.com')\n",
      "('Error : email already exist', 'Manu99m.d@gmail.com')\n",
      "('Error : email already exist', 'emmanwasson@gmail.com')\n",
      "('Error : email already exist', 'star@hotmail.com')\n",
      "('Error : email already exist', 'mombula@gmail.com')\n",
      "('Error : email already exist', 'okemily@gmail.com')\n",
      "('Error : email already exist', 'b2mj@hotmail.com')\n",
      "('Error : email already exist', 'amit2k8animator@gmail.com')\n",
      "('Error : email already exist', 'Maurice.brown05@gmail.com')\n",
      "('Error : email already exist', 'harshsingharun14@gmail.com')\n",
      "('Error : email already exist', 'mhnoor.tariq@gmail.com')\n",
      "('Error : email already exist', 'wassim_oufrighe@hotmail.com')\n",
      "('Error : email already exist', 'evedoh30@gmail.com')\n",
      "('Error : email already exist', 'babychicken202@gmail.com')\n",
      "('Error : email already exist', 'howiemclean@yahoo.com')\n",
      "('Error : email already exist', 'izazchand@gmail.com')\n",
      "('Error : email already exist', 'david.mccomb3@hotmail.com')\n",
      "('Error : email already exist', 'batchrichie@gmail.com')\n",
      "('Error : email already exist', 'mehrabnibir@gmail.com')\n",
      "('Error : email already exist', 'ericribbon64@gmail.com')\n",
      "('Error : email already exist', 'ashcode1997@gmail.com')\n"
     ]
    },
    {
     "name": "stdout",
     "output_type": "stream",
     "text": [
      "('Error : email already exist', 'dipakchaki2@gmail.com')\n",
      "('Error : email already exist', 'adarsh122400@gmail.com')\n",
      "('Error : email already exist', 'dequavionwillis@gmail.com')\n",
      "('Error : email already exist', 'hannahnetflixemail@gmail.com')\n",
      "('Error : email already exist', 'macgals6846@gmail.com')\n",
      "('Error : email already exist', 'sharadr93@gmail.com')\n",
      "('Error : email already exist', 'jkhassz@gmail.com')\n",
      "('Error : email already exist', 'fennec3000@gmail.com')\n",
      "('Error : email already exist', 'sylaikapreka@gmail.com')\n",
      "('Error : email already exist', 'Sefat.global@gmail.com')\n",
      "('Error : email already exist', 'pmol100@hotmail.com')\n",
      "('Error : email already exist', 'SandyLovesCandy4Life@gmail.com')\n",
      "('Error : email already exist', 'eldrinpalers.21@gmail.com')\n",
      "('Error : email already exist', 'imposibleman01@gmail.com')\n",
      "('Error : email already exist', 'pheralistic@gmail.com')\n"
     ]
    }
   ],
   "source": [
    "for email in uniqueMails:\n",
    "    try:\n",
    "        res=db.userdb.insert_one({'email':email})\n",
    "    except DuplicateKeyError as err:\n",
    "        print(\"Error : email already exist\",email)\n",
    "    except Exception as e:\n",
    "        print (e)\n",
    "        "
   ]
  },
  {
   "cell_type": "code",
   "execution_count": 76,
   "metadata": {},
   "outputs": [
    {
     "name": "stdout",
     "output_type": "stream",
     "text": [
      "('Total records after insertion ', 682388)\n",
      "('Total Records Inserted :', 192)\n"
     ]
    }
   ],
   "source": [
    "#total records after insertion\n",
    "totalRecordAfterInsertion=db.userdb.count()\n",
    "print(\"Total records after insertion \",totalRecordAfterInsertion)\n",
    "print('Total Records Inserted :',totalRecordAfterInsertion-totalRecordBeforeInsertion)"
   ]
  },
  {
   "cell_type": "code",
   "execution_count": null,
   "metadata": {
    "collapsed": true
   },
   "outputs": [],
   "source": []
  }
 ],
 "metadata": {
  "kernelspec": {
   "display_name": "Python 2",
   "language": "python",
   "name": "python2"
  },
  "language_info": {
   "codemirror_mode": {
    "name": "ipython",
    "version": 2
   },
   "file_extension": ".py",
   "mimetype": "text/x-python",
   "name": "python",
   "nbconvert_exporter": "python",
   "pygments_lexer": "ipython2",
   "version": "2.7.13"
  }
 },
 "nbformat": 4,
 "nbformat_minor": 2
}
