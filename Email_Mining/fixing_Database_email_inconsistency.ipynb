{
 "cells": [
  {
   "cell_type": "code",
   "execution_count": 1,
   "metadata": {
    "collapsed": true
   },
   "outputs": [],
   "source": [
    "#Import  MongoClient Class from Pymongo module\n",
    "from pymongo import MongoClient\n",
    "from pymongo.errors import *\n",
    "#Other required Modules\n",
    "import pprint\n",
    "\n",
    "#Regex\n",
    "import re\n"
   ]
  },
  {
   "cell_type": "code",
   "execution_count": 2,
   "metadata": {},
   "outputs": [
    {
     "name": "stdout",
     "output_type": "stream",
     "text": [
      "MongoClient(host=['localhost:27017'], document_class=dict, tz_aware=False, connect=True)\n"
     ]
    }
   ],
   "source": [
    "# Connect to MongoD\n",
    "client = MongoClient()\n",
    "print client"
   ]
  },
  {
   "cell_type": "code",
   "execution_count": 20,
   "metadata": {},
   "outputs": [
    {
     "name": "stdout",
     "output_type": "stream",
     "text": [
      "Database(MongoClient(host=['localhost:27017'], document_class=dict, tz_aware=False, connect=True), u'userdb')\n"
     ]
    }
   ],
   "source": [
    "db = client.userdb\n",
    "print db"
   ]
  },
  {
   "cell_type": "code",
   "execution_count": 30,
   "metadata": {},
   "outputs": [],
   "source": [
    "for a in db.userdb.find({\"email\":{'$regex': '.*@rediffmail\\.c$'}}):\n",
    "    print a[u'email'].replace('rediffmail.c','rediffmail.com')"
   ]
  },
  {
   "cell_type": "code",
   "execution_count": 29,
   "metadata": {},
   "outputs": [
    {
     "name": "stdout",
     "output_type": "stream",
     "text": [
      "abhijit.nandanwar@rediffmail.com\n",
      "ankolaramu@rediffmail.com\n",
      "ashish_inamdar@rediffmail.com\n",
      "assayed@rediffmail.com\n",
      "bengaltiger_rupam@rediffmail.com\n",
      "csukumarannambiar@rediffmail.com\n",
      "dabholkar_apoorva@rediffmail.com\n",
      "dhruvikpipaliya001@rediffmail.com\n",
      "dreams1434u@rediffmail.com\n",
      "girivpatil@rediffmail.com\n",
      "gotu0607@rediffmail.com\n",
      "jacksonmjacob@rediffmail.com\n",
      "jaskirat.awesome2101@rediffmail.com\n",
      "kalpesh_bakraniya@rediffmail.com\n",
      "karmaharishankar@rediffmail.com\n",
      "mail.manasranjan@rediffmail.com\n",
      "mailtotanmay.shravge@rediffmail.com\n",
      "mandar.pkulkarni@rediffmail.com\n",
      "manzersabatabish@rediffmail.com\n",
      "mistertripathi@rediffmail.com\n",
      "mpgodhwani@rediffmail.com\n",
      "mrinal.bhatnagar@rediffmail.com\n",
      "nscolombowalla@rediffmail.com\n",
      "parvinder111@rediffmail.com\n",
      "peeplblr_support@rediffmail.com\n",
      "rajendran_nayanar@rediffmail.com\n",
      "rajkatariya.1001@rediffmail.com\n",
      "rakeshkollarakkal@rediffmail.com\n",
      "ritankar_talukdar@rediffmail.com\n",
      "rmageshbabu@rediffmail.com\n",
      "saahil.mukherjee@rediffmail.com\n",
      "sanath1234@rediffmail.com\n",
      "sebastian_gomes123@rediffmail.com\n",
      "srakella_march@rediffmail.com\n",
      "sumantabanerjee_82@rediffmail.com\n",
      "tayadeaditya@rediffmail.com\n",
      "vandana.agrawal2006@rediffmail.com\n",
      "yashenterprises1924@rediffmail.com\n"
     ]
    }
   ],
   "source": [
    "for a in db.userdb.find({\"email\":{'$regex': '.*@rediffmail\\.c$'}}):\n",
    "    print a[u'email'].replace('rediffmail.c','rediffmail.com')\n",
    "    try:\n",
    "        db.userdb.update_one({'_id':a[u'_id']},\n",
    "                            {'$set' : {\n",
    "                                'email':a[u'email'].replace('rediffmail.c','rediffmail.com')\n",
    "                            }}, upsert=False)\n",
    "    except Exception as e:\n",
    "        print (e)\n",
    "        db.userdb.delete_one({'email' : a[u'email']})"
   ]
  },
  {
   "cell_type": "code",
   "execution_count": null,
   "metadata": {
    "collapsed": true
   },
   "outputs": [],
   "source": []
  }
 ],
 "metadata": {
  "kernelspec": {
   "display_name": "Python 2",
   "language": "python",
   "name": "python2"
  },
  "language_info": {
   "codemirror_mode": {
    "name": "ipython",
    "version": 2
   },
   "file_extension": ".py",
   "mimetype": "text/x-python",
   "name": "python",
   "nbconvert_exporter": "python",
   "pygments_lexer": "ipython2",
   "version": "2.7.13"
  }
 },
 "nbformat": 4,
 "nbformat_minor": 2
}
